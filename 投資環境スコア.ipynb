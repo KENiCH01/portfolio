{
  "nbformat": 4,
  "nbformat_minor": 0,
  "metadata": {
    "colab": {
      "provenance": [],
      "authorship_tag": "ABX9TyPdcdutpNQias4di+NpiwSL",
      "include_colab_link": true
    },
    "kernelspec": {
      "name": "python3",
      "display_name": "Python 3"
    },
    "language_info": {
      "name": "python"
    }
  },
  "cells": [
    {
      "cell_type": "markdown",
      "metadata": {
        "id": "view-in-github",
        "colab_type": "text"
      },
      "source": [
        "<a href=\"https://colab.research.google.com/github/KENiCH01/portfolio/blob/main/%E6%8A%95%E8%B3%87%E7%92%B0%E5%A2%83%E3%82%B9%E3%82%B3%E3%82%A2.ipynb\" target=\"_parent\"><img src=\"https://colab.research.google.com/assets/colab-badge.svg\" alt=\"Open In Colab\"/></a>"
      ]
    },
    {
      "cell_type": "code",
      "source": [
        "!pip install python-dateutil"
      ],
      "metadata": {
        "colab": {
          "base_uri": "https://localhost:8080/"
        },
        "id": "POKcooEgb12c",
        "outputId": "63828348-75e9-4009-9645-e432cfda06aa"
      },
      "execution_count": 135,
      "outputs": [
        {
          "output_type": "stream",
          "name": "stdout",
          "text": [
            "Requirement already satisfied: python-dateutil in /usr/local/lib/python3.10/dist-packages (2.8.2)\n",
            "Requirement already satisfied: six>=1.5 in /usr/local/lib/python3.10/dist-packages (from python-dateutil) (1.16.0)\n"
          ]
        }
      ]
    },
    {
      "cell_type": "code",
      "execution_count": 136,
      "metadata": {
        "id": "ejgTJOSvYoSM"
      },
      "outputs": [],
      "source": [
        "import pandas_datareader.data as web\n",
        "import datetime\n",
        "from dateutil.relativedelta import relativedelta\n",
        "\n",
        "score = 0 #投資スコア\n",
        "\n",
        "# 去年から現在まで\n",
        "start = datetime.date.today() - relativedelta(months = 14)\n",
        "end = datetime.date.today()\n",
        "\n",
        "# 米国FF金利データの取得\n",
        "# FEDFUNDS=政策金利, DGS10=10年債利回り, BAA10Y=社債スプレット, TWEXBGSMTH=米ドル指数\n",
        "ff_data = web.DataReader(['FEDFUNDS','DGS10', 'BAA10Y','TWEXBGSMTH'], 'fred', start, end)\n",
        "ff_data = ff_data.dropna() # 空データ削除\n",
        "\n",
        "#データに個別にアクセスできるようにする\n",
        "fed_funds_data = ff_data['FEDFUNDS']\n",
        "LTCB = ff_data['DGS10']\n",
        "corporate_bond = ff_data['BAA10Y']\n",
        "US_dollar_index = ff_data['TWEXBGSMTH']"
      ]
    },
    {
      "cell_type": "code",
      "source": [
        "#現在と一年前の政策金利の差を計算\n",
        "difference_FEDFUNDS = fed_funds_data[-1] - fed_funds_data[0]\n",
        "\n",
        "#0.25より大きいかどうかの判定\n",
        "if difference_FEDFUNDS <= 0.25:\n",
        "  score = score +2\n",
        "else:\n",
        "  score = score -2"
      ],
      "metadata": {
        "id": "E_p-7vdvZWVM"
      },
      "execution_count": 137,
      "outputs": []
    },
    {
      "cell_type": "code",
      "source": [
        "print(difference_FEDFUNDS)\n",
        "print(score)"
      ],
      "metadata": {
        "colab": {
          "base_uri": "https://localhost:8080/"
        },
        "id": "__blGcH8-5Bl",
        "outputId": "e3caa8b1-ee2c-4b63-b1af-34db5379872a"
      },
      "execution_count": 138,
      "outputs": [
        {
          "output_type": "stream",
          "name": "stdout",
          "text": [
            "3.87\n",
            "-2\n"
          ]
        }
      ]
    },
    {
      "cell_type": "code",
      "source": [
        "# 長短金利差を計算\n",
        "spread = LTCB[-1] - fed_funds_data[-1]\n",
        "\n",
        "#scoreの判定\n",
        "if spread >= 1:\n",
        "  score += 2\n",
        "elif spread < 0:\n",
        "  score -= 2"
      ],
      "metadata": {
        "id": "zGrVNf8_dDFH"
      },
      "execution_count": 139,
      "outputs": []
    },
    {
      "cell_type": "code",
      "source": [
        "print(ten_year)\n",
        "print(spread)\n",
        "print(score)"
      ],
      "metadata": {
        "colab": {
          "base_uri": "https://localhost:8080/"
        },
        "id": "tB__slA8-_hj",
        "outputId": "f6b67460-566c-41d7-bac6-a26d74309391"
      },
      "execution_count": 140,
      "outputs": [
        {
          "output_type": "stream",
          "name": "stdout",
          "text": [
            "            GS10\n",
            "DATE            \n",
            "2021-03-01  1.61\n",
            "2021-04-01  1.64\n",
            "2021-05-01  1.62\n",
            "2021-06-01  1.52\n",
            "2021-07-01  1.32\n",
            "2021-08-01  1.28\n",
            "2021-09-01  1.37\n",
            "2021-10-01  1.58\n",
            "2021-11-01  1.56\n",
            "2021-12-01  1.47\n",
            "2022-01-01  1.76\n",
            "2022-02-01  1.93\n",
            "2022-03-01  2.13\n",
            "-1.4700000000000002\n",
            "-4\n"
          ]
        }
      ]
    },
    {
      "cell_type": "code",
      "source": [
        "# 長期金利の対前年差を計算\n",
        "year_on_year = Ten_year[-1] - Ten_year[0] # 単位は%\n",
        "#scoreの判定\n",
        "if year_on_year >= 0:\n",
        "  score += 2\n",
        "elif year_on_year < 0:\n",
        "  score -= 2"
      ],
      "metadata": {
        "id": "Q9etFiyMvmbZ"
      },
      "execution_count": 141,
      "outputs": []
    },
    {
      "cell_type": "code",
      "source": [
        "print(year_on_year)\n",
        "print(type(year_on_year))\n",
        "print(score)"
      ],
      "metadata": {
        "colab": {
          "base_uri": "https://localhost:8080/"
        },
        "id": "xAmcqDpwyPXc",
        "outputId": "18121d81-f1ad-4e53-c6ea-3f28df1e0c44"
      },
      "execution_count": 142,
      "outputs": [
        {
          "output_type": "stream",
          "name": "stdout",
          "text": [
            "0.5199999999999998\n",
            "<class 'numpy.float64'>\n",
            "-2\n"
          ]
        }
      ]
    },
    {
      "cell_type": "code",
      "source": [
        "# 社債スプレットの対前年差を計算\n",
        "corporate_bond_spread = corporate_bond[-1] - corporate_bond[0] # 単位は%\n",
        "#scoreの判定\n",
        "if corporate_bond_spread <= 0:\n",
        "  score += 2\n",
        "elif corporate_bond_spread > 0:\n",
        "  score -= 2"
      ],
      "metadata": {
        "id": "BahYTzBe2M4L"
      },
      "execution_count": 143,
      "outputs": []
    },
    {
      "cell_type": "code",
      "source": [
        "print(corporate_bond)\n",
        "print(corporate_bond_spread)\n",
        "print(score)"
      ],
      "metadata": {
        "colab": {
          "base_uri": "https://localhost:8080/"
        },
        "id": "-zvEgJxt5dHq",
        "outputId": "2bff7551-bcb9-4e0b-9918-7375d30247e9"
      },
      "execution_count": 144,
      "outputs": [
        {
          "output_type": "stream",
          "name": "stdout",
          "text": [
            "DATE\n",
            "2022-06-01    2.08\n",
            "2022-07-01    2.42\n",
            "2022-08-01    2.38\n",
            "2022-09-01    2.22\n",
            "2022-11-01    2.22\n",
            "2022-12-01    2.09\n",
            "2023-02-01    1.91\n",
            "2023-03-01    1.84\n",
            "2023-05-01    2.06\n",
            "2023-06-01    2.15\n",
            "Name: BAA10Y, dtype: float64\n",
            "0.06999999999999984\n",
            "-4\n"
          ]
        }
      ]
    },
    {
      "cell_type": "code",
      "source": [
        "US_dollar_spread =US_dollar_index[-1] / US_dollar_index[0]\n",
        "#scoreの判定\n",
        "if US_dollar_spread <= 1:\n",
        "  score += 2\n",
        "elif US_dollar_spread > 1:\n",
        "  score -= 2"
      ],
      "metadata": {
        "id": "cVerYNpH55t7"
      },
      "execution_count": 145,
      "outputs": []
    },
    {
      "cell_type": "code",
      "source": [
        "print(US_dollar_index)\n",
        "print(US_dollar_spread)\n",
        "print(score)"
      ],
      "metadata": {
        "colab": {
          "base_uri": "https://localhost:8080/"
        },
        "id": "PyEklA7V7NSS",
        "outputId": "29d58f51-97ed-45c1-ef7b-b51bb0e075ff"
      },
      "execution_count": 146,
      "outputs": [
        {
          "output_type": "stream",
          "name": "stdout",
          "text": [
            "DATE\n",
            "2022-06-01    119.9628\n",
            "2022-07-01    122.6483\n",
            "2022-08-01    122.2373\n",
            "2022-09-01    125.5069\n",
            "2022-11-01    124.8149\n",
            "2022-12-01    122.2021\n",
            "2023-02-01    120.3156\n",
            "2023-03-01    120.8060\n",
            "2023-05-01    119.8552\n",
            "2023-06-01    119.7104\n",
            "Name: TWEXBGSMTH, dtype: float64\n",
            "0.9978960144311404\n",
            "-2\n"
          ]
        }
      ]
    },
    {
      "cell_type": "code",
      "source": [],
      "metadata": {
        "id": "9QNRKUZh7SE0"
      },
      "execution_count": 146,
      "outputs": []
    }
  ]
}