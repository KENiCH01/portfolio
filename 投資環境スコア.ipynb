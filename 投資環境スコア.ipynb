{
  "nbformat": 4,
  "nbformat_minor": 0,
  "metadata": {
    "colab": {
      "provenance": [],
      "authorship_tag": "ABX9TyMkLqvl6dAk8mBqdA4MLVnE",
      "include_colab_link": true
    },
    "kernelspec": {
      "name": "python3",
      "display_name": "Python 3"
    },
    "language_info": {
      "name": "python"
    }
  },
  "cells": [
    {
      "cell_type": "markdown",
      "metadata": {
        "id": "view-in-github",
        "colab_type": "text"
      },
      "source": [
        "<a href=\"https://colab.research.google.com/github/KENiCH01/portfolio/blob/main/%E6%8A%95%E8%B3%87%E7%92%B0%E5%A2%83%E3%82%B9%E3%82%B3%E3%82%A2.ipynb\" target=\"_parent\"><img src=\"https://colab.research.google.com/assets/colab-badge.svg\" alt=\"Open In Colab\"/></a>"
      ]
    },
    {
      "cell_type": "code",
      "source": [
        "!pip install python-dateutil"
      ],
      "metadata": {
        "colab": {
          "base_uri": "https://localhost:8080/"
        },
        "id": "POKcooEgb12c",
        "outputId": "22ee9b2a-05e4-4bdd-b52e-a3e6cab266d4"
      },
      "execution_count": 125,
      "outputs": [
        {
          "output_type": "stream",
          "name": "stdout",
          "text": [
            "Requirement already satisfied: python-dateutil in /usr/local/lib/python3.10/dist-packages (2.8.2)\n",
            "Requirement already satisfied: six>=1.5 in /usr/local/lib/python3.10/dist-packages (from python-dateutil) (1.16.0)\n"
          ]
        }
      ]
    },
    {
      "cell_type": "code",
      "execution_count": 126,
      "metadata": {
        "colab": {
          "base_uri": "https://localhost:8080/"
        },
        "id": "ejgTJOSvYoSM",
        "outputId": "d62fbe4b-76d2-4ea1-9903-a8d015440a17"
      },
      "outputs": [
        {
          "output_type": "stream",
          "name": "stdout",
          "text": [
            "            FEDFUNDS  DGS10  BAA10Y  TWEXBGSMTH\n",
            "DATE                                           \n",
            "2022-06-01      1.21   2.94    2.08    119.9628\n",
            "2022-07-01      1.68   2.88    2.42    122.6483\n",
            "2022-08-01      2.33   2.60    2.38    122.2373\n",
            "2022-09-01      2.56   3.26    2.22    125.5069\n",
            "2022-11-01      3.78   4.07    2.22    124.8149\n",
            "2022-12-01      4.10   3.53    2.09    122.2021\n",
            "2023-02-01      4.57   3.39    1.91    120.3156\n",
            "2023-03-01      4.65   4.01    1.84    120.8060\n",
            "2023-05-01      5.06   3.59    2.06    119.8552\n",
            "2023-06-01      5.08   3.61    2.15    119.7104\n",
            "DATE\n",
            "2022-06-01    1.21\n",
            "2022-07-01    1.68\n",
            "2022-08-01    2.33\n",
            "2022-09-01    2.56\n",
            "2022-11-01    3.78\n",
            "2022-12-01    4.10\n",
            "2023-02-01    4.57\n",
            "2023-03-01    4.65\n",
            "2023-05-01    5.06\n",
            "2023-06-01    5.08\n",
            "Name: FEDFUNDS, dtype: float64\n"
          ]
        }
      ],
      "source": [
        "import pandas_datareader.data as web\n",
        "import datetime\n",
        "from dateutil.relativedelta import relativedelta\n",
        "\n",
        "score = 0 #投資スコア\n",
        "\n",
        "# 去年から現在まで\n",
        "start = datetime.date.today() - relativedelta(months = 14)\n",
        "end = datetime.date.today()\n",
        "\n",
        "# 米国FF金利データの取得\n",
        "# FEDFUNDS=政策金利, DGS10=10年債利回り, BAA10Y=社債スプレット, TWEXBGSMTH=米ドル指数\n",
        "ff_data = web.DataReader(['FEDFUNDS','DGS10', 'BAA10Y','TWEXBGSMTH'], 'fred', start, end)\n",
        "ff_data = ff_data.dropna() # 空データ削除\n",
        "\n",
        "#データに個別にアクセスできるようにする\n",
        "fed_funds_data = ff_data['FEDFUNDS']\n",
        "LTCB = ff_data['DGS10']\n",
        "corporate_bond = ff_data['BAA10Y']\n",
        "US_dollar_index = ff_data['TWEXBGSMTH']"
      ]
    },
    {
      "cell_type": "code",
      "source": [
        "#現在と一年前の政策金利の差を計算\n",
        "difference_FEDFUNDS = fed_funds_data[-1] - fed_funds_data[0]\n",
        "\n",
        "#0.25より大きいかどうかの判定\n",
        "if difference_FEDFUNDS <= 0.25:\n",
        "  score = score +2\n",
        "else:\n",
        "  score = score -2"
      ],
      "metadata": {
        "colab": {
          "base_uri": "https://localhost:8080/"
        },
        "id": "E_p-7vdvZWVM",
        "outputId": "8ef5f10c-b1f6-45ed-d73c-009fb27214f4"
      },
      "execution_count": 127,
      "outputs": [
        {
          "output_type": "stream",
          "name": "stdout",
          "text": [
            "3.87\n",
            "-2\n"
          ]
        }
      ]
    },
    {
      "cell_type": "code",
      "source": [
        "print(difference_FEDFUNDS)\n",
        "print(score)"
      ],
      "metadata": {
        "id": "__blGcH8-5Bl"
      },
      "execution_count": null,
      "outputs": []
    },
    {
      "cell_type": "code",
      "source": [
        "# 長短金利差を計算\n",
        "spread = LTCB[-1] - fed_funds_data[-1]\n",
        "\n",
        "#scoreの判定\n",
        "if spread >= 1:\n",
        "  score += 2\n",
        "elif spread < 0:\n",
        "  score -= 2"
      ],
      "metadata": {
        "colab": {
          "base_uri": "https://localhost:8080/"
        },
        "id": "zGrVNf8_dDFH",
        "outputId": "cde2a888-b0e1-4e80-badd-bcb097c9a78e"
      },
      "execution_count": 128,
      "outputs": [
        {
          "output_type": "stream",
          "name": "stdout",
          "text": [
            "            GS10\n",
            "DATE            \n",
            "2021-03-01  1.61\n",
            "2021-04-01  1.64\n",
            "2021-05-01  1.62\n",
            "2021-06-01  1.52\n",
            "2021-07-01  1.32\n",
            "2021-08-01  1.28\n",
            "2021-09-01  1.37\n",
            "2021-10-01  1.58\n",
            "2021-11-01  1.56\n",
            "2021-12-01  1.47\n",
            "2022-01-01  1.76\n",
            "2022-02-01  1.93\n",
            "2022-03-01  2.13\n",
            "-1.4700000000000002\n",
            "-4\n"
          ]
        }
      ]
    },
    {
      "cell_type": "code",
      "source": [
        "print(ten_year)\n",
        "print(spread)\n",
        "print(score)"
      ],
      "metadata": {
        "id": "tB__slA8-_hj"
      },
      "execution_count": null,
      "outputs": []
    },
    {
      "cell_type": "code",
      "source": [
        "# 長期金利の対前年差を計算\n",
        "year_on_year = Ten_year[-1] - Ten_year[0] # 単位は%\n",
        "#scoreの判定\n",
        "if year_on_year >= 0:\n",
        "  score += 2\n",
        "elif year_on_year < 0:\n",
        "  score -= 2"
      ],
      "metadata": {
        "id": "Q9etFiyMvmbZ"
      },
      "execution_count": 129,
      "outputs": []
    },
    {
      "cell_type": "code",
      "source": [
        "print(year_on_year)\n",
        "print(type(year_on_year))\n",
        "print(score)"
      ],
      "metadata": {
        "colab": {
          "base_uri": "https://localhost:8080/"
        },
        "id": "xAmcqDpwyPXc",
        "outputId": "aca0482b-5c19-4936-9fa9-fd0ef5e60b94"
      },
      "execution_count": 130,
      "outputs": [
        {
          "output_type": "stream",
          "name": "stdout",
          "text": [
            "0.5199999999999998\n",
            "<class 'numpy.float64'>\n",
            "-2\n"
          ]
        }
      ]
    },
    {
      "cell_type": "code",
      "source": [
        "# 社債スプレットの対前年差を計算\n",
        "corporate_bond_spread = corporate_bond[-1] - corporate_bond[0] # 単位は%\n",
        "#scoreの判定\n",
        "if corporate_bond_spread <= 0:\n",
        "  score += 2\n",
        "elif corporate_bond_spread > 0:\n",
        "  score -= 2"
      ],
      "metadata": {
        "id": "BahYTzBe2M4L"
      },
      "execution_count": 131,
      "outputs": []
    },
    {
      "cell_type": "code",
      "source": [
        "print(corporate_bond)\n",
        "print(corporate_bond_spread)\n",
        "print(score)"
      ],
      "metadata": {
        "colab": {
          "base_uri": "https://localhost:8080/"
        },
        "id": "-zvEgJxt5dHq",
        "outputId": "fba89393-8474-414f-894f-ae79b22e7fdd"
      },
      "execution_count": 132,
      "outputs": [
        {
          "output_type": "stream",
          "name": "stdout",
          "text": [
            "DATE\n",
            "2022-06-01    2.08\n",
            "2022-07-01    2.42\n",
            "2022-08-01    2.38\n",
            "2022-09-01    2.22\n",
            "2022-11-01    2.22\n",
            "2022-12-01    2.09\n",
            "2023-02-01    1.91\n",
            "2023-03-01    1.84\n",
            "2023-05-01    2.06\n",
            "2023-06-01    2.15\n",
            "Name: BAA10Y, dtype: float64\n",
            "0.06999999999999984\n",
            "-4\n"
          ]
        }
      ]
    },
    {
      "cell_type": "code",
      "source": [
        "US_dollar_spread =US_dollar_index[-1] - US_dollar_index[0]\n",
        "#scoreの判定\n",
        "if US_dollar_spread <= 1:\n",
        "  score += 2\n",
        "elif US_dollar_spread > 1:\n",
        "  score -= 2"
      ],
      "metadata": {
        "id": "cVerYNpH55t7"
      },
      "execution_count": 133,
      "outputs": []
    },
    {
      "cell_type": "code",
      "source": [
        "print(US_dollar_index)\n",
        "print(US_dollar_spread)\n",
        "print(score)"
      ],
      "metadata": {
        "colab": {
          "base_uri": "https://localhost:8080/"
        },
        "id": "PyEklA7V7NSS",
        "outputId": "1c4defc7-476f-4aff-ce83-583c119c4eeb"
      },
      "execution_count": 134,
      "outputs": [
        {
          "output_type": "stream",
          "name": "stdout",
          "text": [
            "DATE\n",
            "2022-06-01    119.9628\n",
            "2022-07-01    122.6483\n",
            "2022-08-01    122.2373\n",
            "2022-09-01    125.5069\n",
            "2022-11-01    124.8149\n",
            "2022-12-01    122.2021\n",
            "2023-02-01    120.3156\n",
            "2023-03-01    120.8060\n",
            "2023-05-01    119.8552\n",
            "2023-06-01    119.7104\n",
            "Name: TWEXBGSMTH, dtype: float64\n",
            "-0.2523999999999944\n",
            "-2\n"
          ]
        }
      ]
    },
    {
      "cell_type": "code",
      "source": [],
      "metadata": {
        "id": "9QNRKUZh7SE0"
      },
      "execution_count": 134,
      "outputs": []
    }
  ]
}